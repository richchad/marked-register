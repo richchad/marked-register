{
 "cells": [
  {
   "cell_type": "markdown",
   "metadata": {},
   "source": [
    "# Marked register digitisation \n",
    " \n",
    "\n",
    "For every UK  election (local or national) polling stations are provided with registers of the eligble voters for the respective polling station. As electors vote, their names are 'marked' to indicate such, ensuring they are not able to cast a vote twice. \n",
    "\n",
    "Marked registers are retained by local authorities and can be provided to political parties for a fee. Political parties purchase photocopies of the marked registers and members volunteer their time for data entry, a single ward (a constituency may have 8-12 wards) can take up to 10 hours to process. \n",
    "\n",
    "<b>This project seeks to automate the process of digitising marked registers</b>\n",
    "\n",
    "\n",
    "#### Data protection\n",
    "All marked registers are protected by GDPR - the purpose of this readme is to demonstrate some of the work without revealing any sensitive information. All additional work is stored in a private repository."
   ]
  },
  {
   "cell_type": "markdown",
   "metadata": {},
   "source": [
    "### Summary of digitisation strategy¶\n",
    "Crop each voter from the marked register, keeping record of the order they appear in the register. Given a csv file of the electoral register, use the image order and pytesseracts interpretation of the image text to map images to the correct elector in the csv. Train machine learning model on labelled (voted/ not voted) images to create a model that predicts whether the register has been marked (a vote has been cast)."
   ]
  },
  {
   "cell_type": "code",
   "execution_count": null,
   "metadata": {},
   "outputs": [],
   "source": []
  }
 ],
 "metadata": {
  "kernelspec": {
   "display_name": "Python 3",
   "language": "python",
   "name": "python3"
  },
  "language_info": {
   "codemirror_mode": {
    "name": "ipython",
    "version": 3
   },
   "file_extension": ".py",
   "mimetype": "text/x-python",
   "name": "python",
   "nbconvert_exporter": "python",
   "pygments_lexer": "ipython3",
   "version": "3.7.1"
  }
 },
 "nbformat": 4,
 "nbformat_minor": 2
}
